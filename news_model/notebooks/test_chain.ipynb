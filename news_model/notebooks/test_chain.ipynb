{
 "cells": [
  {
   "cell_type": "code",
   "execution_count": 1,
   "metadata": {},
   "outputs": [],
   "source": [
    "from langchain_core.output_parsers import StrOutputParser\n",
    "from langchain_core.prompts import ChatPromptTemplate\n",
    "from langchain_core.runnables import RunnableParallel, RunnablePassthrough\n",
    "from langchain_community.embeddings import OllamaEmbeddings\n",
    "from langchain_community.vectorstores import Chroma\n",
    "from langchain_community.chat_models import ChatOllama\n",
    "from services import create_chroma_client"
   ]
  },
  {
   "cell_type": "code",
   "execution_count": 3,
   "metadata": {},
   "outputs": [],
   "source": [
    "oembed = OllamaEmbeddings(model=\"mistral\")\n",
    "db = Chroma(client=create_chroma_client(), embedding_function=oembed, collection_name=\"news\")\n",
    "retriever = db.as_retriever()"
   ]
  },
  {
   "cell_type": "code",
   "execution_count": 10,
   "metadata": {},
   "outputs": [],
   "source": [
    "def retriever(query: dict):\n",
    "    import time\n",
    "    import datetime as dt\n",
    "\n",
    "    fecha_dt = dt.datetime.today() - dt.timedelta(days=1)\n",
    "\n",
    "    fecha_unix = time.mktime(fecha_dt.timetuple())\n",
    "    documents = db.similarity_search(query['input'], k=20, filter={'published': {'$gt': fecha_unix}})\n",
    "\n",
    "    if len(documents) > 0:\n",
    "        return [document.page_content for document in documents]\n",
    "    return []"
   ]
  },
  {
   "cell_type": "code",
   "execution_count": 11,
   "metadata": {},
   "outputs": [],
   "source": [
    "template = \"\"\"A partir de los siguientes titulares distintos portales de noticias, elabora una respuesta a la pregunta del usuario:\n",
    "\n",
    "{context}\n",
    "\n",
    "Pregunta: {question}\n",
    "\n",
    "Recuerda que debes responder en español.\n",
    "\"\"\"\n",
    "rag_prompt = ChatPromptTemplate.from_template(template)\n",
    "\n",
    "model = ChatOllama(\n",
    "    model=\"openchat\",\n",
    "    temperature=0,\n",
    "    streaming=True,\n",
    ")\n",
    "chain = (\n",
    "    RunnableParallel({\"context\": retriever, \"question\": RunnablePassthrough()})\n",
    "    | rag_prompt\n",
    "    | model\n",
    "    | StrOutputParser()\n",
    ")"
   ]
  },
  {
   "cell_type": "code",
   "execution_count": 12,
   "metadata": {},
   "outputs": [
    {
     "name": "stdout",
     "output_type": "stream",
     "text": [
      " Ayer en Gran Hermano, hubo varios eventos destacados. Entre ellos, se mencionan el ingreso de un celular a la casa y los jugadores recibieron una dura advertencia. También hubo enfrentamientos entre los participantes, como cuando Catalina Gorostidi destrozó a Julieta Poggio. Además, se produjo un desesperado pedido de Furia a la producción de Gran Hermano y la hermana de Furia Scaglione denunció públicamente a LAM por acosos.\n"
     ]
    }
   ],
   "source": [
    "print(chain.invoke({'input': \"Que paso ayer en gran hermano?\"}))"
   ]
  },
  {
   "cell_type": "code",
   "execution_count": null,
   "metadata": {},
   "outputs": [],
   "source": []
  }
 ],
 "metadata": {
  "kernelspec": {
   "display_name": ".venv",
   "language": "python",
   "name": "python3"
  },
  "language_info": {
   "codemirror_mode": {
    "name": "ipython",
    "version": 3
   },
   "file_extension": ".py",
   "mimetype": "text/x-python",
   "name": "python",
   "nbconvert_exporter": "python",
   "pygments_lexer": "ipython3",
   "version": "3.11.5"
  }
 },
 "nbformat": 4,
 "nbformat_minor": 2
}
